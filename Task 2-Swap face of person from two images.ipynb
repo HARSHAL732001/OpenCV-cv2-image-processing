{
 "cells": [
  {
   "cell_type": "markdown",
   "metadata": {},
   "source": [
    "# Task 2: Swap face of person from two images"
   ]
  },
  {
   "cell_type": "code",
   "execution_count": 1,
   "metadata": {},
   "outputs": [],
   "source": [
    "# import cv2 and numpy\n",
    "\n",
    "import cv2\n",
    "import numpy as np"
   ]
  },
  {
   "cell_type": "code",
   "execution_count": 2,
   "metadata": {},
   "outputs": [],
   "source": [
    "# Read Image-1\n",
    "\n",
    "Iron_man = cv2.imread('Image-1.jpg')"
   ]
  },
  {
   "cell_type": "code",
   "execution_count": 3,
   "metadata": {},
   "outputs": [],
   "source": [
    "# Display Image-1\n",
    "\n",
    "cv2.imshow(\"Iron-man\", Iron_man)\n",
    "cv2.waitKey()\n",
    "cv2.destroyAllWindows()"
   ]
  },
  {
   "cell_type": "code",
   "execution_count": 4,
   "metadata": {},
   "outputs": [],
   "source": [
    "# Cordinates of Image-1 Face\n",
    "tx1 = 90\n",
    "ty1 = 0\n",
    "tx2 = 400\n",
    "ty2 = 400\n",
    "\n",
    "# Crop Image-1 face\n",
    "Image_1_Face = Iron_man[ty1:ty2, tx1:tx2]"
   ]
  },
  {
   "cell_type": "code",
   "execution_count": 5,
   "metadata": {},
   "outputs": [],
   "source": [
    "# Display Image-1 face\n",
    "cv2.imshow(\"Iron_man\", Image_1_Face)\n",
    "cv2.waitKey()\n",
    "cv2.destroyAllWindows()"
   ]
  },
  {
   "cell_type": "code",
   "execution_count": 6,
   "metadata": {},
   "outputs": [
    {
     "data": {
      "text/plain": [
       "(400, 310, 3)"
      ]
     },
     "execution_count": 6,
     "metadata": {},
     "output_type": "execute_result"
    }
   ],
   "source": [
    "Image_1_Face.shape"
   ]
  },
  {
   "cell_type": "code",
   "execution_count": 7,
   "metadata": {},
   "outputs": [],
   "source": [
    "# Read Image-2\n",
    "\n",
    "groot = cv2.imread('Image-2.jpg')"
   ]
  },
  {
   "cell_type": "code",
   "execution_count": 8,
   "metadata": {},
   "outputs": [],
   "source": [
    "# Diplay Image-2\n",
    "\n",
    "cv2.imshow(\"groot\", groot)\n",
    "cv2.waitKey()\n",
    "cv2.destroyAllWindows()"
   ]
  },
  {
   "cell_type": "code",
   "execution_count": 9,
   "metadata": {},
   "outputs": [],
   "source": [
    "# Cordinates of Image-2 Face\n",
    "jx1 = 90\n",
    "jy1 = 0\n",
    "jx2 = 400\n",
    "jy2 = 400\n",
    "\n",
    "# Crop Image-2 face\n",
    "Image_2_Face = groot[jy1:jy2, jx1:jx2]\n",
    "\n",
    "# Display Image-2 face\n",
    "cv2.imshow(\"groot\", Image_2_Face)\n",
    "cv2.waitKey()\n",
    "cv2.destroyAllWindows()"
   ]
  },
  {
   "cell_type": "code",
   "execution_count": 10,
   "metadata": {},
   "outputs": [
    {
     "data": {
      "text/plain": [
       "(400, 310, 3)"
      ]
     },
     "execution_count": 10,
     "metadata": {},
     "output_type": "execute_result"
    }
   ],
   "source": [
    "Image_2_Face.shape"
   ]
  },
  {
   "cell_type": "code",
   "execution_count": 11,
   "metadata": {},
   "outputs": [
    {
     "data": {
      "text/plain": [
       "(400, 310, 3)"
      ]
     },
     "execution_count": 11,
     "metadata": {},
     "output_type": "execute_result"
    }
   ],
   "source": [
    "Image_1_Face.shape"
   ]
  },
  {
   "cell_type": "code",
   "execution_count": 12,
   "metadata": {},
   "outputs": [],
   "source": [
    "# Swap the face of Image-1 with Image-2\n",
    "Iron_man = cv2.imread('Image-1.jpg')\n",
    "Iron_man[ty1:ty2, tx1:tx2] = Image_2_Face\n",
    "\n",
    "# Display swapped image\n",
    "cv2.imshow(\"Iron-man\", Iron_man)\n",
    "cv2.waitKey()\n",
    "cv2.destroyAllWindows()"
   ]
  },
  {
   "cell_type": "code",
   "execution_count": 13,
   "metadata": {},
   "outputs": [],
   "source": [
    "# Swap the face of Image-2 with Image-1\n",
    "groot = cv2.imread('Image-2.jpg')\n",
    "groot[jy1:jy2, jx1:jx2] = Image_1_Face\n",
    "\n",
    "# Display Image\n",
    "cv2.imshow(\"groot\", groot)\n",
    "cv2.waitKey()\n",
    "cv2.destroyAllWindows()"
   ]
  },
  {
   "cell_type": "code",
   "execution_count": null,
   "metadata": {},
   "outputs": [],
   "source": []
  },
  {
   "cell_type": "code",
   "execution_count": null,
   "metadata": {},
   "outputs": [],
   "source": []
  }
 ],
 "metadata": {
  "kernelspec": {
   "display_name": "Python 3",
   "language": "python",
   "name": "python3"
  },
  "language_info": {
   "codemirror_mode": {
    "name": "ipython",
    "version": 3
   },
   "file_extension": ".py",
   "mimetype": "text/x-python",
   "name": "python",
   "nbconvert_exporter": "python",
   "pygments_lexer": "ipython3",
   "version": "3.8.3"
  }
 },
 "nbformat": 4,
 "nbformat_minor": 4
}
